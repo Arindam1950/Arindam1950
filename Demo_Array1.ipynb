{
  "nbformat": 4,
  "nbformat_minor": 0,
  "metadata": {
    "colab": {
      "name": "Demo Array1.ipynb",
      "provenance": [],
      "authorship_tag": "ABX9TyMBCWDAteQAzjmr9ib1PSY6",
      "include_colab_link": true
    },
    "kernelspec": {
      "name": "python3",
      "display_name": "Python 3"
    },
    "language_info": {
      "name": "python"
    }
  },
  "cells": [
    {
      "cell_type": "markdown",
      "metadata": {
        "id": "view-in-github",
        "colab_type": "text"
      },
      "source": [
        "<a href=\"https://colab.research.google.com/github/Arindam1950/Arindam1950/blob/main/Demo_Array1.ipynb\" target=\"_parent\"><img src=\"https://colab.research.google.com/assets/colab-badge.svg\" alt=\"Open In Colab\"/></a>"
      ]
    },
    {
      "cell_type": "code",
      "source": [
        "from array import *\n",
        "array1 = array('i',[10,20,30,40,50])\n",
        "print(array1[0])\n",
        "print(array1[2])\n"
      ],
      "metadata": {
        "colab": {
          "base_uri": "https://localhost:8080/"
        },
        "id": "1p5kL8tQdTe-",
        "outputId": "b47fc8a2-a050-4398-993e-98d7aa845a56"
      },
      "execution_count": 2,
      "outputs": [
        {
          "output_type": "stream",
          "name": "stdout",
          "text": [
            "10\n",
            "30\n"
          ]
        }
      ]
    },
    {
      "cell_type": "code",
      "source": [
        "#Insertion\n",
        "from array import *\n",
        "array1 = array('i',[10,20,30,40,50])\n",
        "array1.insert(1,60)\n",
        "for x in array1:\n",
        "  print(x)"
      ],
      "metadata": {
        "colab": {
          "base_uri": "https://localhost:8080/"
        },
        "id": "zKak1ysXeXuf",
        "outputId": "73d95fb7-afbb-440f-c7e2-9247023a9d88"
      },
      "execution_count": 6,
      "outputs": [
        {
          "output_type": "stream",
          "name": "stdout",
          "text": [
            "10\n",
            "60\n",
            "20\n",
            "30\n",
            "40\n",
            "50\n"
          ]
        }
      ]
    },
    {
      "cell_type": "code",
      "source": [
        "#Search Operation\n",
        "from array import *\n",
        "array1 = array('i',[10,20,30,40,50])\n",
        "print(array1.index(40))"
      ],
      "metadata": {
        "colab": {
          "base_uri": "https://localhost:8080/"
        },
        "id": "C6OqjNiVhN9w",
        "outputId": "6c5ae62c-3649-4a99-a836-6ec7db61bea3"
      },
      "execution_count": 8,
      "outputs": [
        {
          "output_type": "stream",
          "name": "stdout",
          "text": [
            "3\n"
          ]
        }
      ]
    },
    {
      "cell_type": "code",
      "source": [
        "#Update Operation\n",
        "from array import *\n",
        "array1 = array('i',[10,20,30,40,50])\n",
        "array2= 80\n",
        "for x in array1:\n",
        "  print(x)"
      ],
      "metadata": {
        "colab": {
          "base_uri": "https://localhost:8080/"
        },
        "id": "G49k0u1iiEyb",
        "outputId": "b8add93a-b52f-47b6-bdfa-d05913bd8add"
      },
      "execution_count": 11,
      "outputs": [
        {
          "output_type": "stream",
          "name": "stdout",
          "text": [
            "10\n",
            "20\n",
            "30\n",
            "40\n",
            "50\n"
          ]
        }
      ]
    },
    {
      "cell_type": "code",
      "source": [
        "#2D Array(array within array)\n",
        "from array import *\n",
        "T = [[11,12,5,2],[15,6,10],[10,8,12,5],[12,15,8,6]]\n",
        "print(T[0])\n",
        "print(T[1][2])"
      ],
      "metadata": {
        "colab": {
          "base_uri": "https://localhost:8080/"
        },
        "id": "GA8o4U72jzZQ",
        "outputId": "1e04476b-877d-4708-8cd7-301f0f10dfc7"
      },
      "execution_count": 12,
      "outputs": [
        {
          "output_type": "stream",
          "name": "stdout",
          "text": [
            "[11, 12, 5, 2]\n",
            "10\n"
          ]
        }
      ]
    },
    {
      "cell_type": "code",
      "source": [
        "#Deletion\n",
        "from array import *\n",
        "array1 = array('i',[10,20,30,40,50])\n",
        "array1.remove(40)\n",
        "for x in array1:\n",
        "  print(x)"
      ],
      "metadata": {
        "colab": {
          "base_uri": "https://localhost:8080/"
        },
        "id": "1hy_eUC_gPyR",
        "outputId": "01a53261-096e-42b5-b092-49e25c2c5dd5"
      },
      "execution_count": 7,
      "outputs": [
        {
          "output_type": "stream",
          "name": "stdout",
          "text": [
            "10\n",
            "20\n",
            "30\n",
            "50\n"
          ]
        }
      ]
    },
    {
      "cell_type": "code",
      "source": [
        "#Insert Values\n",
        "from array import *\n",
        "T = [[11,12,5,2],[15,6,10],[10,8,12,5],[12,15,8,6]]\n",
        "T.insert(2,[0,5,11,13,6])\n",
        "for row in T:\n",
        "  for column in row:\n",
        "    print(column,end=\"\")\n",
        "    print()"
      ],
      "metadata": {
        "colab": {
          "base_uri": "https://localhost:8080/"
        },
        "id": "7Gk0VJtWmy8U",
        "outputId": "4e79d0dc-c29a-485f-c446-e1346420be65"
      },
      "execution_count": 14,
      "outputs": [
        {
          "output_type": "stream",
          "name": "stdout",
          "text": [
            "11\n",
            "12\n",
            "5\n",
            "2\n",
            "15\n",
            "6\n",
            "10\n",
            "0\n",
            "5\n",
            "11\n",
            "13\n",
            "6\n",
            "10\n",
            "8\n",
            "12\n",
            "5\n",
            "12\n",
            "15\n",
            "8\n",
            "6\n"
          ]
        }
      ]
    },
    {
      "cell_type": "code",
      "source": [
        "#For Loop\n",
        "from array import *\n",
        "T = [[11,12,5,2],[15,6,10],[10,8,12,5],[12,15,8,6]]\n",
        "for row in T:\n",
        "  for column in row:\n",
        "   print(column, end=\" \")\n",
        "   print()"
      ],
      "metadata": {
        "colab": {
          "base_uri": "https://localhost:8080/"
        },
        "id": "BJUbEzcaoX48",
        "outputId": "10b3f69f-82ad-4ab5-d0ab-c90c46075bfb"
      },
      "execution_count": 18,
      "outputs": [
        {
          "output_type": "stream",
          "name": "stdout",
          "text": [
            "11 \n",
            "12 \n",
            "5 \n",
            "2 \n",
            "15 \n",
            "6 \n",
            "10 \n",
            "10 \n",
            "8 \n",
            "12 \n",
            "5 \n",
            "12 \n",
            "15 \n",
            "8 \n",
            "6 \n"
          ]
        }
      ]
    },
    {
      "cell_type": "code",
      "source": [
        "#Updating Values\n",
        "from array import *\n",
        "T = [[11,12,5,2],[15,6,10],[10,8,12,5],[12,15,8,6]]\n",
        "T[2] = [11,9]\n",
        "T[0][3] = 7\n",
        "for row in T:\n",
        "  for column in row:\n",
        "    print(column,end=\" \")\n",
        "    print()\n"
      ],
      "metadata": {
        "colab": {
          "base_uri": "https://localhost:8080/"
        },
        "id": "yLTwo9DIqQxl",
        "outputId": "527dca67-4014-4891-d018-5d7f7044e7b2"
      },
      "execution_count": 19,
      "outputs": [
        {
          "output_type": "stream",
          "name": "stdout",
          "text": [
            "11 \n",
            "12 \n",
            "5 \n",
            "7 \n",
            "15 \n",
            "6 \n",
            "10 \n",
            "11 \n",
            "9 \n",
            "12 \n",
            "15 \n",
            "8 \n",
            "6 \n"
          ]
        }
      ]
    },
    {
      "cell_type": "code",
      "execution_count": null,
      "metadata": {
        "id": "mYMGyyAgbNcR"
      },
      "outputs": [],
      "source": [
        ""
      ]
    },
    {
      "cell_type": "code",
      "source": [
        "#Deleting Values\n",
        "from array import *\n",
        "T = [[11,12,5,2],[15,6,10],[10,8,12,5],[12,15,8,6]]\n",
        "del T[3]\n",
        "for row in T :\n",
        "  for column in row :\n",
        "    print(column, end =\" \")\n",
        "    print()"
      ],
      "metadata": {
        "colab": {
          "base_uri": "https://localhost:8080/"
        },
        "id": "WnOvv_6Hr_7x",
        "outputId": "1382eff7-7650-4e0f-9086-7c34c1b9c222"
      },
      "execution_count": 20,
      "outputs": [
        {
          "output_type": "stream",
          "name": "stdout",
          "text": [
            "11 \n",
            "12 \n",
            "5 \n",
            "2 \n",
            "15 \n",
            "6 \n",
            "10 \n",
            "10 \n",
            "8 \n",
            "12 \n",
            "5 \n"
          ]
        }
      ]
    },
    {
      "cell_type": "code",
      "source": [
        "from array import *\n",
        "array1 = array('i'),[10,20,30,40,50]\n",
        "for x in array1:\n",
        "  print(x)\n"
      ],
      "metadata": {
        "colab": {
          "base_uri": "https://localhost:8080/"
        },
        "id": "t86FN00ccXAV",
        "outputId": "eaac2fa7-7e40-42b1-ffcb-edd33a8d704f"
      },
      "execution_count": 1,
      "outputs": [
        {
          "output_type": "stream",
          "name": "stdout",
          "text": [
            "array('i')\n",
            "[10, 20, 30, 40, 50]\n"
          ]
        }
      ]
    }
  ]
}